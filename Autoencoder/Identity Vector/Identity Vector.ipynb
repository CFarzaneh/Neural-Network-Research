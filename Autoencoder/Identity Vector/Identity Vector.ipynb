{
 "cells": [
  {
   "cell_type": "markdown",
   "metadata": {},
   "source": [
    "# Understanding the behavior of Linear Activation Functions in Simple Autoencoders"
   ]
  },
  {
   "cell_type": "markdown",
   "metadata": {
    "collapsed": true
   },
   "source": [
    "The goal of this project is to gain insight as to why a Linear Activation Function is not able to reconstruct my input data, and why it is behaving the way it is when reducing the dimensions from two, down to one in latency space."
   ]
  },
  {
   "cell_type": "markdown",
   "metadata": {},
   "source": [
    "# The Dataset"
   ]
  },
  {
   "cell_type": "markdown",
   "metadata": {},
   "source": [
    "The dataset consists of vectors with magnitudes between -3 and 3. These vectors are all unit vectors 45 degrees off of the X and Y axis, and 90 degrees off of each other."
   ]
  },
  {
   "cell_type": "markdown",
   "metadata": {},
   "source": [
    "This is how the dataset looks like:\n",
    "![title](dataset.png)"
   ]
  },
  {
   "cell_type": "markdown",
   "metadata": {
    "collapsed": false
   },
   "source": [
    "Now, to construct this dataset, we are first creating basis vectors. These are unit vectors so we can easily control the magnitude. Our basis vectors, U1 and U2 are:\n",
    "$$ U1 = <\\frac{1}{\\sqrt{2}},\\frac{1}{\\sqrt{2}}>$$\n",
    "$$U2 = <\\frac{-1}{\\sqrt{2}},\\frac{1}{\\sqrt{2}}>$$"
   ]
  },
  {
   "cell_type": "markdown",
   "metadata": {
    "collapsed": true
   },
   "source": [
    "Now, we can multiply these basis vectors by magnitudes randomly picked between -3 and 3. Multiplying these basis vectors by these magnitude, we can construct the dataset above. Our dataset size is of size 10,000. After doing this, we simply store this in a NumPy array."
   ]
  },
  {
   "cell_type": "markdown",
   "metadata": {},
   "source": [
    "# The Autoencoder"
   ]
  },
  {
   "cell_type": "code",
   "execution_count": null,
   "metadata": {
    "collapsed": true
   },
   "outputs": [],
   "source": []
  }
 ],
 "metadata": {
  "kernelspec": {
   "display_name": "Python 3",
   "language": "python",
   "name": "python3"
  },
  "language_info": {
   "codemirror_mode": {
    "name": "ipython",
    "version": 3
   },
   "file_extension": ".py",
   "mimetype": "text/x-python",
   "name": "python",
   "nbconvert_exporter": "python",
   "pygments_lexer": "ipython3",
   "version": "3.6.0"
  }
 },
 "nbformat": 4,
 "nbformat_minor": 2
}
